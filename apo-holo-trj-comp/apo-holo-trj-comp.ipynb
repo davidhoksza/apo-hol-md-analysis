{
 "cells": [
  {
   "cell_type": "code",
   "execution_count": null,
   "metadata": {},
   "outputs": [],
   "source": [
    "%load_ext autoreload\n",
    "%autoreload 2"
   ]
  },
  {
   "cell_type": "code",
   "execution_count": null,
   "metadata": {},
   "outputs": [],
   "source": [
    "import structure\n",
    "import sys\n",
    "import pymol\n",
    "from pymol import cmd\n",
    "import numpy as np\n",
    "import re\n",
    "import time\n",
    "\n",
    "PATH_DATA =\"c:/git/apo-holo-md-analysis/apo-holo-trj-comp/data/G01/\"\n",
    "#PATH_DATA =\"c:/git/apo-holo-md-analysis/data/apo-holo-trj-comp/\"\n",
    "\n",
    "\n",
    "COLORS = {\n",
    "    'apo': 'blue',\n",
    "    'holo': 'green',    \n",
    "    'trj': 'yellow',    \n",
    "    'lig': 'white'\n",
    "}\n",
    "POCKET_THRESHOLD = 6\n",
    "\n",
    "\n",
    "class PATH:\n",
    "    APO_GRO = f'{PATH_DATA}apo_2FJY/conf_wh20.gro'\n",
    "    APO_TRJ = f'{PATH_DATA}apo_2FJY/traj_350ns_w_protein.xtc'\n",
    "    APO_IX = f'{PATH_DATA}apo_2FJY/index.ndx'\n",
    "    HOLO_GRO = f'{PATH_DATA}holo_2P70/conf_wh20.gro'\n",
    "    HOLO_TRJ = f'{PATH_DATA}holo_2P70/traj_350ns_w_protein.xtc'\n",
    "    HOLO_IX = f'{PATH_DATA}holo_2P70/index.ndx'\n",
    "\n",
    "# APO_CHAIN = 'C'\n",
    "# HOLO_CHAIN = 'C'\n",
    "# LIGAND = 'C3S'"
   ]
  },
  {
   "cell_type": "code",
   "execution_count": null,
   "metadata": {},
   "outputs": [],
   "source": [
    "# open a PyMOL window\n",
    "_stdouterr = sys.stdout, sys.stderr\n",
    "pymol.finish_launching(['pymol', '-q'])\n",
    "sys.stdout, sys.stderr = _stdouterr"
   ]
  },
  {
   "cell_type": "code",
   "execution_count": null,
   "metadata": {},
   "outputs": [],
   "source": [
    "cmd.reinitialize()\n",
    "cmd.pwd()\n",
    "cmd.load(PATH.APO_GRO, 'trj-apo')\n",
    "cmd.load_traj(PATH.APO_TRJ, 'trj-apo')\n",
    "cmd.load(PATH.HOLO_GRO, 'trj-holo')\n",
    "cmd.load_traj(PATH.HOLO_TRJ, 'trj-holo')\n"
   ]
  },
  {
   "cell_type": "code",
   "execution_count": null,
   "metadata": {},
   "outputs": [],
   "source": [
    "cmd.align(mobile='trj-holo', target='trj-apo', mobile_state=1, target_state=1, cycles=10)\n",
    "cmd.intra_fit('trj-apo')\n",
    "cmd.intra_fit('trj-holo')\n",
    "\n",
    "#cmd.zoom('all')"
   ]
  },
  {
   "cell_type": "code",
   "execution_count": null,
   "metadata": {},
   "outputs": [],
   "source": [
    "# Extract pocket indexes\n",
    "\n",
    "f = open(PATH.APO_IX, 'r').read()\n",
    "m = re.findall(r'r_[0-9]+_*', f)\n",
    "pocket_ixs_apo = [r.split('_')[1] for r in m]\n",
    "\n",
    "f = open(PATH.HOLO_IX, 'r').read()\n",
    "m = re.findall(r'r_[0-9]+_*', f)\n",
    "pocket_ixs_holo = [r.split('_')[1] for r in m]\n",
    "\n",
    "assert set(pocket_ixs_apo) == set(pocket_ixs_holo)"
   ]
  },
  {
   "cell_type": "code",
   "execution_count": null,
   "metadata": {},
   "outputs": [],
   "source": [
    "trj_apo = pymol.cmd.get_model('trj-apo', 1)\n",
    "trj_holo = pymol.cmd.get_model('trj-holo', 1)\n",
    "s_apo = structure.Structure(trj_apo, 'trj-apo')\n",
    "s_trj = structure.Structure(trj_holo, 'trj-holo')\n"
   ]
  },
  {
   "cell_type": "code",
   "execution_count": null,
   "metadata": {},
   "outputs": [],
   "source": [
    "#Create pocket selections\n",
    "pocket_res_sel = ' or '.join([f\"(resi {r})\" for r in pocket_ixs_apo])\n",
    "def_apo = f\"trj-apo and ({pocket_res_sel})\"\n",
    "def_holo = f\"trj-holo and ({pocket_res_sel})\"\n",
    "cmd.create(\"pocket-apo\", def_apo)\n",
    "cmd.create(\"pocket-holo\", def_holo)\n",
    "cmd.show_as('sticks', 'pocket-apo')\n",
    "cmd.show_as('sticks', 'pocket-holo')"
   ]
  },
  {
   "cell_type": "code",
   "execution_count": null,
   "metadata": {},
   "outputs": [],
   "source": [
    "pocket_apo = structure.Structure(cmd.get_model('pocket-apo'), def_apo)\n",
    "pocket_holo = structure.Structure(cmd.get_model('pocket-holo'), def_holo)\n",
    "\n",
    "cnt_states_apo = cmd.count_states('trj-apo')\n",
    "cnt_states_holo = cmd.count_states('trj-holo')\n",
    "\n",
    "cnt_states_apo = cnt_states_holo = 1000\n",
    "pocket_trj_apo = []\n",
    "for i in range(cnt_states_apo):\n",
    "    pocket_trj_apo.append(structure.Structure(cmd.get_model(\"pocket-apo\", i+1), def_apo, i+1))\n",
    "pocket_trj_holo = []\n",
    "for i in range(cnt_states_holo):\n",
    "    pocket_trj_holo.append(structure.Structure(cmd.get_model(\"pocket-holo\", i+1), def_holo, i+1))"
   ]
  },
  {
   "cell_type": "code",
   "execution_count": null,
   "metadata": {},
   "outputs": [],
   "source": [
    "start = time.time()\n",
    "\n",
    "rmsd_apo_holo = np.empty(shape=(cnt_states_apo, cnt_states_holo))\n",
    "\n",
    "for i in range(cnt_states_apo):\n",
    "    #pocket_trj_apo.append(structure.Structure(cmd.get_model(\"pocket-apo\", i+1), def_apo, i+1))\n",
    "    print(f'apo-{i}')\n",
    "    for j in range(i, cnt_states_holo):\n",
    "        #print(f'holo-{j}')\n",
    "        #cmd.align(mobile='trj-holo', target='trj-apo', mobile_state=1, target_state=1)\n",
    "        #cmd.align(mobile='pocket-holo', target='pocket-apo')\n",
    "        #pocket_trj_holo.append(structure.Structure(cmd.get_model(\"pocket-holo\", i+1), def_holo, j+1))\n",
    "        aux = pocket_trj_apo[i].rmsd_fast(pocket_trj_holo[j])\n",
    "        # aux = cmd.align(mobile='pocket-holo', target='pocket-apo', mobile_state=i+1, target_state=j+1, transform=0,  cutoff=20000)[0]\n",
    "        rmsd_apo_holo[i,j] = aux\n",
    "        rmsd_apo_holo[j,i] = aux\n",
    "\n",
    "end = time.time()\n",
    "print(end - start)"
   ]
  },
  {
   "cell_type": "code",
   "execution_count": null,
   "metadata": {},
   "outputs": [],
   "source": [
    "# cmd.align(mobile='trj-holo', target='trj-apo', mobile_state=0, target_state=0)"
   ]
  },
  {
   "cell_type": "code",
   "execution_count": null,
   "metadata": {},
   "outputs": [],
   "source": [
    "# cmd.align(mobile='trj-holo', target='trj-apo', mobile_state=2, target_state=1, cycles=10)"
   ]
  },
  {
   "cell_type": "code",
   "execution_count": null,
   "metadata": {},
   "outputs": [],
   "source": [
    "# cmd.align(mobile='pocket-holo', target='pocket-apo', mobile_state=1, target_state=1, cutoff=20000)"
   ]
  },
  {
   "cell_type": "code",
   "execution_count": null,
   "metadata": {},
   "outputs": [],
   "source": [
    "# cmd.intra_fit('pocket-apo')\n",
    "# cmd.intra_fit('pocket-holo')"
   ]
  },
  {
   "cell_type": "code",
   "execution_count": null,
   "metadata": {},
   "outputs": [],
   "source": [
    "# i=50; j=50"
   ]
  },
  {
   "cell_type": "code",
   "execution_count": null,
   "metadata": {},
   "outputs": [],
   "source": [
    "# cmd.align(mobile='pocket-holo', target='pocket-apo', mobile_state=j, target_state=i, cutoff=20000)"
   ]
  },
  {
   "cell_type": "code",
   "execution_count": null,
   "metadata": {},
   "outputs": [],
   "source": [
    "# structure.Structure(cmd.get_model(\"pocket-apo\", i), def_apo, i).rmsd(structure.Structure(cmd.get_model(\"pocket-holo\", j), def_holo, j))"
   ]
  },
  {
   "cell_type": "code",
   "execution_count": null,
   "metadata": {},
   "outputs": [],
   "source": [
    "# pocket_trj_apo[1].rmsd(pocket_trj_holo[1])"
   ]
  }
 ],
 "metadata": {
  "kernelspec": {
   "display_name": "Python 3",
   "language": "python",
   "name": "python3"
  },
  "language_info": {
   "codemirror_mode": {
    "name": "ipython",
    "version": 3
   },
   "file_extension": ".py",
   "mimetype": "text/x-python",
   "name": "python",
   "nbconvert_exporter": "python",
   "pygments_lexer": "ipython3",
   "version": "3.9.5"
  }
 },
 "nbformat": 4,
 "nbformat_minor": 2
}
